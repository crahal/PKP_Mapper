{
 "cells": [
  {
   "cell_type": "markdown",
   "source": [
    "## A notebook to collate data from Dimensions Google BigQuery database\n",
    "\n",
    "### Last updated: 19th January 2023\n",
    "\n",
    "#### Authors: Charlie Rahal and Saurabh Khanna"
   ],
   "metadata": {
    "collapsed": false
   }
  },
  {
   "cell_type": "markdown",
   "source": [
    "Load dependancies:"
   ],
   "metadata": {
    "collapsed": false
   }
  },
  {
   "cell_type": "code",
   "execution_count": 1,
   "outputs": [],
   "source": [
    "import pandas as pd\n",
    "import os\n",
    "from google.cloud import bigquery\n",
    "from helper_functions import get_pubs_all_issn"
   ],
   "metadata": {
    "collapsed": false
   }
  },
  {
   "cell_type": "markdown",
   "source": [
    "Authenticate with to the bigquery client and project:"
   ],
   "metadata": {
    "collapsed": false
   }
  },
  {
   "cell_type": "code",
   "execution_count": 2,
   "outputs": [],
   "source": [
    "MY_PROJECT_ID = \"dimensionspkp\"\n",
    "client = bigquery.Client(project=MY_PROJECT_ID)"
   ],
   "metadata": {
    "collapsed": false
   }
  },
  {
   "cell_type": "markdown",
   "source": [
    "Load the raw list of issns"
   ],
   "metadata": {
    "collapsed": false
   }
  },
  {
   "cell_type": "code",
   "execution_count": 3,
   "id": "2fa5b428",
   "metadata": {},
   "outputs": [
    {
     "name": "stdout",
     "output_type": "stream",
     "text": [
      "Total ISSNs to query:  12435\n"
     ]
    }
   ],
   "source": [
    "raw_path = os.path.join(\"..\", \"data\", \"raw\")\n",
    "raw_data = pd.read_csv(os.path.join(raw_path, \"ojs_issns_in_dimensions_2020.csv\"))\n",
    "issns_to_query = raw_data[\"issn\"].tolist()\n",
    "print(\"Total ISSNs to query: \", len(issns_to_query))"
   ]
  },
  {
   "cell_type": "markdown",
   "source": [
    "Set a raw dimensions output path:"
   ],
   "metadata": {
    "collapsed": false
   }
  },
  {
   "cell_type": "code",
   "execution_count": null,
   "outputs": [],
   "source": [
    "dim_out = os.path.join('..', 'data', 'raw', 'from_dimensions')"
   ],
   "metadata": {
    "collapsed": false
   }
  },
  {
   "cell_type": "markdown",
   "source": [
    "Call our helper function to grab the data for all pubs in our ISSN list. Note: we chunk into 1000 issns to get over local memory file limits."
   ],
   "metadata": {
    "collapsed": false
   }
  },
  {
   "cell_type": "code",
   "execution_count": null,
   "outputs": [
    {
     "name": "stderr",
     "output_type": "stream",
     "text": [
      "9it [56:03, 421.33s/it]"
     ]
    }
   ],
   "source": [
    "%%time\n",
    "file_name = 'pubs_from_all_issns.csv'\n",
    "file_path = os.path.join(dim_out, file_name)\n",
    "get_pubs_all_issn(1000, file_path, client, issns_to_query)"
   ],
   "metadata": {
    "collapsed": false,
    "pycharm": {
     "is_executing": true
    }
   }
  },
  {
   "cell_type": "markdown",
   "source": [
    "Lets now get a list of all unique publications found in our raw data returned from the above function calls"
   ],
   "metadata": {
    "collapsed": false
   }
  },
  {
   "cell_type": "code",
   "execution_count": null,
   "outputs": [],
   "source": [],
   "metadata": {
    "collapsed": false
   }
  }
 ],
 "metadata": {
  "kernelspec": {
   "display_name": "Python 3 (ipykernel)",
   "language": "python",
   "name": "python3"
  },
  "language_info": {
   "codemirror_mode": {
    "name": "ipython",
    "version": 3
   },
   "file_extension": ".py",
   "mimetype": "text/x-python",
   "name": "python",
   "nbconvert_exporter": "python",
   "pygments_lexer": "ipython3",
   "version": "3.8.10"
  }
 },
 "nbformat": 4,
 "nbformat_minor": 5
}
