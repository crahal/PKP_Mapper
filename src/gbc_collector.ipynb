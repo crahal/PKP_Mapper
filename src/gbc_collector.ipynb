{
 "cells": [
  {
   "cell_type": "markdown",
   "source": [
    "## A notebook to collate data from Dimensions Google BigQuery database\n",
    "\n",
    "### Last updated: 19th January 2023\n",
    "\n",
    "#### Authors: Charlie Rahal and Saurabh Khanna"
   ],
   "metadata": {
    "collapsed": false
   }
  },
  {
   "cell_type": "markdown",
   "source": [
    "Load dependancies:"
   ],
   "metadata": {
    "collapsed": false
   }
  },
  {
   "cell_type": "code",
   "execution_count": 1,
   "outputs": [],
   "source": [
    "import pandas as pd\n",
    "import os\n",
    "from google.cloud import bigquery\n",
    "from helper_functions import get_pubs_all_issn"
   ],
   "metadata": {
    "collapsed": false
   }
  },
  {
   "cell_type": "markdown",
   "source": [
    "Authenticate with to the bigquery client and project:"
   ],
   "metadata": {
    "collapsed": false
   }
  },
  {
   "cell_type": "code",
   "execution_count": 2,
   "outputs": [],
   "source": [
    "MY_PROJECT_ID = \"dimensionspkp\"\n",
    "client = bigquery.Client(project=MY_PROJECT_ID)"
   ],
   "metadata": {
    "collapsed": false
   }
  },
  {
   "cell_type": "markdown",
   "source": [
    "Load the raw list of issns"
   ],
   "metadata": {
    "collapsed": false
   }
  },
  {
   "cell_type": "code",
   "execution_count": 3,
   "id": "2fa5b428",
   "metadata": {},
   "outputs": [
    {
     "name": "stdout",
     "output_type": "stream",
     "text": [
      "Total ISSNs to query:  12435\n"
     ]
    }
   ],
   "source": [
    "raw_path = os.path.join(\"..\", \"data\", \"raw\")\n",
    "raw_data = pd.read_csv(os.path.join(raw_path, \"ojs_issns_in_dimensions_2020.csv\"))\n",
    "issns_to_query = raw_data[\"issn\"].tolist()\n",
    "print(\"Total ISSNs to query: \", len(issns_to_query))"
   ]
  },
  {
   "cell_type": "markdown",
   "source": [
    "Set a raw dimensions output path:"
   ],
   "metadata": {
    "collapsed": false
   }
  },
  {
   "cell_type": "code",
   "execution_count": null,
   "outputs": [],
   "source": [
    "dim_out = os.path.join('..', 'data', 'raw', 'from_dimensions')"
   ],
   "metadata": {
    "collapsed": false
   }
  },
  {
   "cell_type": "markdown",
   "source": [
    "Call our helper function to grab the data for all pubs in our ISSN list. Note: we chunk into 1000 issns to get over local memory file limits.\n",
    "\n",
    "*Question*: Is each call of `pub_from_issn_lists` costing GBQ $, or is passing a list as `(%s)\"\"\" %(issn_list)` costing credits _for each element of the list_? How else can we return all pub.ids from our ISSN list?"
   ],
   "metadata": {
    "collapsed": false
   }
  },
  {
   "cell_type": "code",
   "execution_count": 4,
   "outputs": [
    {
     "name": "stderr",
     "output_type": "stream",
     "text": [
      "13it [1:25:53, 396.42s/it]"
     ]
    },
    {
     "name": "stdout",
     "output_type": "stream",
     "text": [
      "CPU times: user 24min 18s, sys: 30.8 s, total: 24min 49s\n",
      "Wall time: 1h 25min 53s\n"
     ]
    },
    {
     "name": "stderr",
     "output_type": "stream",
     "text": [
      "\n"
     ]
    }
   ],
   "source": [
    "%%time\n",
    "file_name = 'pubs_from_all_issns.csv'\n",
    "file_path = os.path.join(dim_out, file_name)\n",
    "get_pubs_all_issn(1000, file_path, client, issns_to_query)"
   ],
   "metadata": {
    "collapsed": false
   }
  },
  {
   "cell_type": "markdown",
   "source": [
    "Lets now get a list of all unique publications found in our raw data returned from the above function calls"
   ],
   "metadata": {
    "collapsed": false
   }
  },
  {
   "cell_type": "code",
   "execution_count": 32,
   "outputs": [
    {
     "name": "stdout",
     "output_type": "stream",
     "text": [
      "# pubids from issns:  1947263\n",
      "# unique pubids from issns:  1947263\n"
     ]
    }
   ],
   "source": [
    "unique_pubids = pd.read_csv(file_path, usecols=[1], header=None)\n",
    "unique_pubids = unique_pubids[1].tolist()\n",
    "print('# pubids from issns: ', len(unique_pubids))\n",
    "# Note: should be the same as the set:\n",
    "print('# unique pubids from issns: ', len(set(unique_pubids)))"
   ],
   "metadata": {
    "collapsed": false
   }
  },
  {
   "cell_type": "markdown",
   "source": [
    "Let's now work on using this list of pubids to get incoming citations:"
   ],
   "metadata": {
    "collapsed": false
   }
  },
  {
   "cell_type": "code",
   "execution_count": 137,
   "outputs": [
    {
     "name": "stdout",
     "output_type": "stream",
     "text": [
      "CPU times: user 17.5 ms, sys: 3.85 ms, total: 21.4 ms\n",
      "Wall time: 14.5 s\n"
     ]
    }
   ],
   "source": [
    "%%time\n",
    "# Prototype the fetch_level1_incoming functions\n",
    "\n",
    "def fetch_level1_incoming(issn_list):\n",
    "    \"\"\"\n",
    "    A function to grab level1 incoming citations.\n",
    "    :param issn_list: a list of issns (not implemented)\n",
    "    :return: rows of data\n",
    "    \"\"\"\n",
    "    try:\n",
    "        QUERY = \"\"\"\n",
    "                SELECT id, title.preferred, doi, journal.issn,\n",
    "                       publisher, type, date, open_access_categories,\n",
    "                       category_for, citations_count, journal,\n",
    "                       researcher_ids, research_orgs, research_org_cities,\n",
    "                       research_org_city_names, research_org_countries,\n",
    "                       research_org_country_names, concepts,\n",
    "                       reference_ids\n",
    "                FROM\n",
    "                  `dimensions-ai.data_analytics.publications`\n",
    "                WHERE\n",
    "                  id IN (\n",
    "                  SELECT\n",
    "                    DISTINCT reference_pubs\n",
    "                  FROM\n",
    "                    `dimensions-ai.data_analytics.publications`,\n",
    "                    UNNEST(reference_ids) AS reference_pubs\n",
    "                  WHERE\n",
    "                  --- \"jour.1115214\" is a test from the docs\n",
    "                    journal.id = \"jour.1115214\")\n",
    "                \"\"\"\n",
    "\n",
    "        query_job = client.query(QUERY)  # API request\n",
    "        rows = query_job.result()  # Wait for query to finish\n",
    "        return rows\n",
    "    except Exception as e:\n",
    "        print(e.message)\n",
    "\n",
    "# Question: how can we avoid calling this 12435 times?\n",
    "# That seems to be very expensive via GBQ?\n",
    "results = fetch_level1_incoming(unique_pubids[0:1])"
   ],
   "metadata": {
    "collapsed": false
   }
  },
  {
   "cell_type": "code",
   "execution_count": 133,
   "outputs": [],
   "source": [
    "%%time\n",
    "# Question: how can we avoid calling this so many times?\n",
    "results.to_dataframe().to_csv('test.csv')"
   ],
   "metadata": {
    "collapsed": false
   }
  }
 ],
 "metadata": {
  "kernelspec": {
   "display_name": "Python 3 (ipykernel)",
   "language": "python",
   "name": "python3"
  },
  "language_info": {
   "codemirror_mode": {
    "name": "ipython",
    "version": 3
   },
   "file_extension": ".py",
   "mimetype": "text/x-python",
   "name": "python",
   "nbconvert_exporter": "python",
   "pygments_lexer": "ipython3",
   "version": "3.8.10"
  }
 },
 "nbformat": 4,
 "nbformat_minor": 5
}
