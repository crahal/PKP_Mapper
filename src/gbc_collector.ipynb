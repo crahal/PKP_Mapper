{
 "cells": [
  {
   "cell_type": "markdown",
   "source": [
    "## A notebook to collate data from Dimensions Google BigQuery database\n",
    "\n",
    "### Last updated: 19th January 2023\n",
    "\n",
    "#### Authors: Charlie Rahal and Saurabh Khanna"
   ],
   "metadata": {
    "collapsed": false
   }
  },
  {
   "cell_type": "markdown",
   "source": [
    "Load dependancies:"
   ],
   "metadata": {
    "collapsed": false
   }
  },
  {
   "cell_type": "code",
   "execution_count": null,
   "outputs": [],
   "source": [
    "import pandas as pd\n",
    "import os\n",
    "from google.cloud import bigquery\n",
    "from helper_functions import pub_ids_from_issns, chunker\n",
    "from tqdm import tqdm\n",
    "tqdm.pandas()\n",
    "import warnings\n",
    "warnings.simplefilter(\"ignore\", UserWarning)"
   ],
   "metadata": {
    "collapsed": false,
    "pycharm": {
     "is_executing": true
    }
   }
  },
  {
   "cell_type": "markdown",
   "source": [
    "Authenticate with to the bigquery client and project:"
   ],
   "metadata": {
    "collapsed": false
   }
  },
  {
   "cell_type": "code",
   "execution_count": null,
   "outputs": [],
   "source": [
    "MY_PROJECT_ID = \"dimensionspkp\"\n",
    "client = bigquery.Client(project=MY_PROJECT_ID)"
   ],
   "metadata": {
    "collapsed": false,
    "pycharm": {
     "is_executing": true
    }
   }
  },
  {
   "cell_type": "code",
   "execution_count": null,
   "id": "2fa5b428",
   "metadata": {
    "pycharm": {
     "is_executing": true
    }
   },
   "outputs": [],
   "source": [
    "raw_path = os.path.join(\"..\", \"data\", \"raw\")\n",
    "raw_data = pd.read_csv(os.path.join(raw_path, \"ojs_issns_in_dimensions_2020.csv\"))\n",
    "issns_to_query = raw_data[\"issn\"].tolist()\n",
    "print(\"Total ISSNs to query: \", len(issns_to_query))"
   ]
  },
  {
   "cell_type": "code",
   "execution_count": null,
   "outputs": [],
   "source": [
    "%%time\n",
    "chunk_size = 1000\n",
    "file_name = 'pubs_from_all_issns.csv'\n",
    "file_path = os.path.join('..', 'data', 'raw',\n",
    "                         'from_dimensions', file_name)\n",
    "\n",
    "# @TODO a better tqdm decorator...\n",
    "for issn_chunk in tqdm(chunker(issns_to_query, chunk_size)):\n",
    "    results = pub_ids_from_issns(issn_chunk, client).to_dataframe()\n",
    "    if os.path.exists(file_path) is False:\n",
    "        results.to_csv(file_path, mode='w', header=False)\n",
    "    else:\n",
    "        results.to_csv(file_path, mode='a', header=False)"
   ],
   "metadata": {
    "collapsed": false,
    "pycharm": {
     "is_executing": true
    }
   }
  }
 ],
 "metadata": {
  "kernelspec": {
   "display_name": "Python 3 (ipykernel)",
   "language": "python",
   "name": "python3"
  },
  "language_info": {
   "codemirror_mode": {
    "name": "ipython",
    "version": 3
   },
   "file_extension": ".py",
   "mimetype": "text/x-python",
   "name": "python",
   "nbconvert_exporter": "python",
   "pygments_lexer": "ipython3",
   "version": "3.8.10"
  }
 },
 "nbformat": 4,
 "nbformat_minor": 5
}
