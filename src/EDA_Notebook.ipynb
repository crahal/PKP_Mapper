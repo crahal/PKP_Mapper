{
 "cells": [
  {
   "cell_type": "markdown",
   "id": "24afaa6f",
   "metadata": {},
   "source": [
    "Let's figure out where this missing data is..."
   ]
  },
  {
   "cell_type": "code",
   "execution_count": 1,
   "id": "47230deb",
   "metadata": {},
   "outputs": [],
   "source": [
    "import os\n",
    "import pandas as pd\n",
    "import warnings\n",
    "from helper_functions import basic_coverage,\\\n",
    "                             load_dimensions_returns,\\\n",
    "                             load_issns,\\\n",
    "                             prepare_issn_l,\\\n",
    "                             build_spine\n",
    "warnings.filterwarnings('ignore')\n",
    "\n",
    "from_dimensions = os.path.join(os.getcwd(), '..', 'data', 'raw', 'from_dimensions')\n",
    "issn_inputs = os.path.join(os.getcwd(), '..', 'data', 'raw', 'issn_inputs')"
   ]
  },
  {
   "cell_type": "code",
   "execution_count": 2,
   "id": "8b54b810",
   "metadata": {},
   "outputs": [],
   "source": [
    "issn_to_issn_l, issn_l_to_issn = prepare_issn_l()"
   ]
  },
  {
   "cell_type": "code",
   "execution_count": 3,
   "id": "03cecc11",
   "metadata": {},
   "outputs": [],
   "source": [
    "issn_inputs_2021 = load_issns(issn_inputs, '2021')"
   ]
  },
  {
   "cell_type": "code",
   "execution_count": 5,
   "id": "4af87c5c",
   "metadata": {},
   "outputs": [
    {
     "name": "stdout",
     "output_type": "stream",
     "text": [
      "Number of unmerged ISSNs: 558\n",
      "Number of unique ISSN-Ls: 46236\n"
     ]
    }
   ],
   "source": [
    "build_spine(issn_inputs_2021, issn_to_issn_l, issn_l_to_issn)"
   ]
  },
  {
   "cell_type": "code",
   "execution_count": 6,
   "id": "53cce849",
   "metadata": {},
   "outputs": [],
   "source": [
    "from_dim_issn_2021 = load_dimensions_returns(from_dimensions, '2021')"
   ]
  },
  {
   "cell_type": "code",
   "execution_count": 7,
   "id": "cc304b64",
   "metadata": {},
   "outputs": [
    {
     "name": "stdout",
     "output_type": "stream",
     "text": [
      "Length of ISSNs in the raw file:  63682\n",
      "Length of unique 2021 ISSNs from Saurabh:  63682\n",
      "Number of articles returned from Dimensions 2021 across all p-issns or e-issns:  7397101\n",
      "Number of unique issns returned:  20550\n",
      "Number of unique eissns returned:  25338\n",
      "Number of unique issn+eissns:  45880\n",
      "72.04547595866964\n"
     ]
    }
   ],
   "source": [
    "basic_coverage(issn_inputs_2021, from_dim_issn_2021, 2021)"
   ]
  }
 ],
 "metadata": {
  "kernelspec": {
   "display_name": "Python 3 (ipykernel)",
   "language": "python",
   "name": "python3"
  },
  "language_info": {
   "codemirror_mode": {
    "name": "ipython",
    "version": 3
   },
   "file_extension": ".py",
   "mimetype": "text/x-python",
   "name": "python",
   "nbconvert_exporter": "python",
   "pygments_lexer": "ipython3",
   "version": "3.8.10"
  }
 },
 "nbformat": 4,
 "nbformat_minor": 5
}
